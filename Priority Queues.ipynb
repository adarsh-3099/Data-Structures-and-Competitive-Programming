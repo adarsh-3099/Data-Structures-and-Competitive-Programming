{
 "cells": [
  {
   "cell_type": "code",
   "execution_count": 24,
   "metadata": {},
   "outputs": [],
   "source": [
    "class PriorityQueueNode:\n",
    "    \n",
    "    def __init__(self,value,priority):\n",
    "        self.value = value\n",
    "        self.priority = priority\n",
    "\n",
    "\n",
    "class PriorityQueue:\n",
    "    \n",
    "    def __init__(self):\n",
    "        self.pq = []\n",
    "        \n",
    "    def getSize(self):\n",
    "        return len(self.pq)\n",
    "    \n",
    "    def isEmpty(self):\n",
    "        return self.getSize() == 0\n",
    "        \n",
    "    def getMin(self):\n",
    "        if self.isEmpty():\n",
    "            return None\n",
    "        self.pq[0].value\n",
    "        \n",
    "    def __perculate(self):\n",
    "        childIdx = self.getSize()-1\n",
    "        while childIdx>0:\n",
    "            parentIdx = (childIdx-1)//2\n",
    "            if self.pq[childIdx].priority < self.pq[parentIdx].priority:\n",
    "                self.pq[childIdx],self.pq[parentIdx] = self.pq[parentIdx],self.pq[childIdx]\n",
    "                childIdx = parentIdx\n",
    "            else:\n",
    "                break\n",
    "        \n",
    "    def insert(self,value,priority):\n",
    "        pqNode = PriorityQueueNode(value,priority)\n",
    "        self.pq.append(pqNode)\n",
    "        self.__perculate()\n",
    "    \n",
    "    def __perculateDown(self):\n",
    "        parentIdx = 0\n",
    "        lchild,rchild = 2*parentIdx+1,2*parentIdx+2\n",
    "        while lchild < self.getSize():\n",
    "            minIdx = parentIdx\n",
    "            if self.pq[minIdx].priority > self.pq[lchild].priority:\n",
    "                minIdx = lchild\n",
    "            if rchild<self.getSize() and self.pq[minIdx].priority > self.pq[rchild].priority:\n",
    "                minIdx = rchild\n",
    "                \n",
    "            if minIdx == parentIdx:\n",
    "                break\n",
    "\n",
    "            self.pq[parentIdx],self.pq[minIdx] = self.pq[minIdx],self.pq[parentIdx]\n",
    "            parentIdx = minIdx\n",
    "            lchild,rchild = 2*parentIdx+1,2*parentIdx+2\n",
    "    \n",
    "    def remove(self):\n",
    "        if self.isEmpty():\n",
    "            return None\n",
    "        ele = self.pq[0].value\n",
    "        \n",
    "        self.pq[0] = self.pq[self.getSize()-1]\n",
    "        self.pq.pop()\n",
    "        self.__perculateDown()\n",
    "        return ele"
   ]
  },
  {
   "cell_type": "code",
   "execution_count": 25,
   "metadata": {},
   "outputs": [],
   "source": [
    "pq = PriorityQueue()\n",
    "pq.insert('A',10)\n",
    "pq.insert('C',100)\n",
    "pq.insert('B',5)\n",
    "pq.insert('D',12)"
   ]
  },
  {
   "cell_type": "code",
   "execution_count": 26,
   "metadata": {},
   "outputs": [
    {
     "name": "stdout",
     "output_type": "stream",
     "text": [
      "B\n",
      "A\n",
      "D\n",
      "C\n"
     ]
    }
   ],
   "source": [
    "for i in range(4):\n",
    "    print(pq.remove())"
   ]
  },
  {
   "cell_type": "code",
   "execution_count": null,
   "metadata": {},
   "outputs": [],
   "source": []
  }
 ],
 "metadata": {
  "kernelspec": {
   "display_name": "Python 3",
   "language": "python",
   "name": "python3"
  },
  "language_info": {
   "codemirror_mode": {
    "name": "ipython",
    "version": 3
   },
   "file_extension": ".py",
   "mimetype": "text/x-python",
   "name": "python",
   "nbconvert_exporter": "python",
   "pygments_lexer": "ipython3",
   "version": "3.8.5"
  }
 },
 "nbformat": 4,
 "nbformat_minor": 4
}
